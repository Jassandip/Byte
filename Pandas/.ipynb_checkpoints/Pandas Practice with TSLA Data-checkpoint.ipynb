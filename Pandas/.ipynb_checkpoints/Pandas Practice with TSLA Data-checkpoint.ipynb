{
 "cells": [
  {
   "cell_type": "code",
   "execution_count": 1,
   "metadata": {},
   "outputs": [
    {
     "data": {
      "image/png": "[encoded data removed]",
      "text/plain": [
       "<matplotlib.figure.Figure at 0x7f2b140efda0>"
      ]
     },
     "metadata": {},
     "output_type": "display_data"
    }
   ],
   "source": [
    "import csv\n",
    "\n",
    "import matplotlib.pyplot as plt\n",
    "import matplotlib.dates as mdates\n",
    "import numpy as np\n",
    "import pandas as pd\n",
    "\n",
    "%matplotlib inline\n",
    "\n",
    "with open('TSLA.csv','r') as file:\n",
    "    df = pd.read_csv(file)\n",
    "\n",
    "# df.Date = pd.to_datetime(df.Date)\n",
    "\n",
    "fig,ax = plt.subplots()\n",
    "##########################################################\n",
    "#                                                        #\n",
    "# FIXME Fix the error message that's throwing the error, #\n",
    "#       which points to the following line.              #\n",
    "#                                                        #\n",
    "# Hint: The error message isn't drawn if you comment out #\n",
    "#       `df.Date = pd.to_datetime(df.Date)`, which is    #\n",
    "#       two lines above this block of comments, but      #\n",
    "#       the label for the x-axis doesn't render.         #\n",
    "#                                                        #\n",
    "##########################################################\n",
    "ax.plot_date(df.Date,df.Close)\n",
    "ax.plot_date(df.Date,df['Open'])\n",
    "ax.xaxis.set_major_locator(mdates.YearLocator())\n",
    "ax.xaxis.set_major_formatter(mdates.DateFormatter('%b\\n%Y'))\n",
    "\n",
    "plt.show()\n",
    "\n",
    "\n",
    "# Successes, Obstacles, Next Steps\n",
    "\n",
    "# # Elementary data visualization with `matplotlib`\n",
    "\n",
    "# # TODO Set a title for the chart\n",
    "\n",
    "# # Set a X-axis label for the chart\n",
    "\n",
    "# # TODO Set a Y-axis label for the chart\n",
    "\n",
    "# # TODO Bonus: save the chart as a file in the current working directory\n",
    "\n",
    "# # TODO Bonus: Calculate and plot the volume weighted average price"
   ]
  },
  {
   "cell_type": "code",
   "execution_count": null,
   "metadata": {},
   "outputs": [],
   "source": []
  },
  {
   "cell_type": "code",
   "execution_count": null,
   "metadata": {},
   "outputs": [],
   "source": []
  },
  {
   "cell_type": "code",
   "execution_count": null,
   "metadata": {},
   "outputs": [],
   "source": []
  },
  {
   "cell_type": "code",
   "execution_count": null,
   "metadata": {},
   "outputs": [],
   "source": []
  },
  {
   "cell_type": "code",
   "execution_count": null,
   "metadata": {},
   "outputs": [],
   "source": []
  },
  {
   "cell_type": "code",
   "execution_count": null,
   "metadata": {},
   "outputs": [],
   "source": []
  },
  {
   "cell_type": "code",
   "execution_count": null,
   "metadata": {},
   "outputs": [],
   "source": []
  },
  {
   "cell_type": "code",
   "execution_count": null,
   "metadata": {},
   "outputs": [],
   "source": []
  },
  {
   "cell_type": "code",
   "execution_count": null,
   "metadata": {},
   "outputs": [],
   "source": []
  },
  {
   "cell_type": "code",
   "execution_count": null,
   "metadata": {},
   "outputs": [],
   "source": []
  },
  {
   "cell_type": "code",
   "execution_count": null,
   "metadata": {},
   "outputs": [],
   "source": []
  },
  {
   "cell_type": "code",
   "execution_count": null,
   "metadata": {},
   "outputs": [],
   "source": []
  },
  {
   "cell_type": "code",
   "execution_count": null,
   "metadata": {},
   "outputs": [],
   "source": []
  },
  {
   "cell_type": "code",
   "execution_count": null,
   "metadata": {},
   "outputs": [],
   "source": []
  }
 ],
 "metadata": {
  "kernelspec": {
   "display_name": "Python 3",
   "language": "python",
   "name": "python3"
  },
  "language_info": {
   "codemirror_mode": {
    "name": "ipython",
    "version": 3
   },
   "file_extension": ".py",
   "mimetype": "text/x-python",
   "name": "python",
   "nbconvert_exporter": "python",
   "pygments_lexer": "ipython3",
   "version": "3.7.0"
  }
 },
 "nbformat": 4,
 "nbformat_minor": 2
}
